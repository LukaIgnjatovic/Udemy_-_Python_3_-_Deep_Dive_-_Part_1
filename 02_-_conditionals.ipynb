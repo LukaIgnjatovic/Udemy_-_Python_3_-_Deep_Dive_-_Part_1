{
 "cells": [
  {
   "cell_type": "markdown",
   "metadata": {},
   "source": [
    "Conditional is a construct that allows you to branch your code based on conditions being met (or not)."
   ]
  },
  {
   "cell_type": "code",
   "execution_count": 1,
   "metadata": {},
   "outputs": [
    {
     "name": "stdout",
     "output_type": "stream",
     "text": [
      "a < 5\n"
     ]
    }
   ],
   "source": [
    "a = 2\n",
    "\n",
    "if a < 5:\n",
    "\n",
    "    print(\"a < 5\")\n",
    "\n",
    "else:\n",
    "\n",
    "    print(\"a >= 5\")"
   ]
  },
  {
   "cell_type": "markdown",
   "metadata": {},
   "source": [
    "In the code, \"if\" statements can be nested."
   ]
  },
  {
   "cell_type": "code",
   "execution_count": 2,
   "metadata": {},
   "outputs": [
    {
     "name": "stdout",
     "output_type": "stream",
     "text": [
      "5 <= a < 10\n"
     ]
    }
   ],
   "source": [
    "a = 8\n",
    "\n",
    "if a < 5:\n",
    "\n",
    "    print(\"a < 5\")\n",
    "\n",
    "else:\n",
    "\n",
    "    if a < 10:\n",
    "\n",
    "        print(\"5 <= a < 10\")\n",
    "\n",
    "    else:\n",
    "\n",
    "        print(\"a >= 10\")"
   ]
  },
  {
   "cell_type": "markdown",
   "metadata": {},
   "source": [
    "However, \"elif\" statements provide far better readability."
   ]
  },
  {
   "cell_type": "code",
   "execution_count": 3,
   "metadata": {},
   "outputs": [
    {
     "name": "stdout",
     "output_type": "stream",
     "text": [
      "5 <= a < 10\n"
     ]
    }
   ],
   "source": [
    "a = 5\n",
    "\n",
    "if a < 5:\n",
    "\n",
    "    print(\"a < 5\")\n",
    "\n",
    "elif a < 10:\n",
    "\n",
    "    print(\"5 <= a < 10\")\n",
    "\n",
    "elif a < 15:\n",
    "\n",
    "    print(\"10 <= a < 15\")\n",
    "\n",
    "elif a < 20:\n",
    "\n",
    "    print(\"15 <= a < 20\")\n",
    "\n",
    "else:\n",
    "\n",
    "    print(\"a > 20\")"
   ]
  },
  {
   "cell_type": "markdown",
   "metadata": {},
   "source": [
    "Python also provides a conditional expression (ternary operator) that works like this: \"X if (condition) else Y\"."
   ]
  },
  {
   "cell_type": "code",
   "execution_count": 4,
   "metadata": {},
   "outputs": [
    {
     "name": "stdout",
     "output_type": "stream",
     "text": [
      "a >= 5\n"
     ]
    }
   ],
   "source": [
    "a = 5\n",
    "\n",
    "b = \"a < 5\" if a < 5 else \"a >= 5\"\n",
    "\n",
    "print(b)"
   ]
  },
  {
   "cell_type": "markdown",
   "metadata": {},
   "source": [
    "X and Y can be any expression, not just literal values."
   ]
  },
  {
   "cell_type": "code",
   "execution_count": 5,
   "metadata": {},
   "outputs": [
    {
     "name": "stdout",
     "output_type": "stream",
     "text": [
      "Hello!\n",
      "Goodbye!\n"
     ]
    }
   ],
   "source": [
    "def say_hello():\n",
    "\n",
    "    print(\"Hello!\")\n",
    "\n",
    "def say_goodbye():\n",
    "\n",
    "    print(\"Goodbye!\")\n",
    "\n",
    "a = 5\n",
    "\n",
    "say_hello() if a < 10 else say_goodbye()\n",
    "\n",
    "a = 15\n",
    "\n",
    "say_hello() if a < 10 else say_goodbye()"
   ]
  }
 ],
 "metadata": {
  "interpreter": {
   "hash": "819a10caeb7475e07eb4ff26e810da7023c30afe73dbd6f37291e38d457d6836"
  },
  "kernelspec": {
   "display_name": "Python 3.8.8 64-bit ('base': conda)",
   "language": "python",
   "name": "python3"
  },
  "language_info": {
   "codemirror_mode": {
    "name": "ipython",
    "version": 3
   },
   "file_extension": ".py",
   "mimetype": "text/x-python",
   "name": "python",
   "nbconvert_exporter": "python",
   "pygments_lexer": "ipython3",
   "version": "3.8.8"
  },
  "orig_nbformat": 4
 },
 "nbformat": 4,
 "nbformat_minor": 2
}
